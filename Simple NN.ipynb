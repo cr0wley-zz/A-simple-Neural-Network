{
 "cells": [
  {
   "cell_type": "code",
   "execution_count": 104,
   "metadata": {},
   "outputs": [],
   "source": [
    "import numpy as np"
   ]
  },
  {
   "cell_type": "code",
   "execution_count": 105,
   "metadata": {},
   "outputs": [],
   "source": [
    "def sigmoid(x, derivative=False):\n",
    "    if(derivative==True):\n",
    "        return x*(1-x)\n",
    "    return 1/(1+np.exp(-x))"
   ]
  },
  {
   "cell_type": "code",
   "execution_count": 106,
   "metadata": {},
   "outputs": [],
   "source": [
    "x =np.array([[0,0,1,0],\n",
    "            [0,1,1,1],\n",
    "            [1,0,1,1],\n",
    "            [1,1,1,0]\n",
    "            ])"
   ]
  },
  {
   "cell_type": "code",
   "execution_count": 107,
   "metadata": {},
   "outputs": [],
   "source": [
    "y = np.array([[0],\n",
    "              [1],\n",
    "              [1],\n",
    "              [0]])"
   ]
  },
  {
   "cell_type": "code",
   "execution_count": 108,
   "metadata": {},
   "outputs": [],
   "source": [
    "np.random.seed(1)"
   ]
  },
  {
   "cell_type": "code",
   "execution_count": 109,
   "metadata": {},
   "outputs": [],
   "source": [
    "synp0 = 2*np.random.random((4,4))-1\n",
    "synp1 = 2*np.random.random((4,1))-1"
   ]
  },
  {
   "cell_type": "code",
   "execution_count": 112,
   "metadata": {},
   "outputs": [
    {
     "name": "stdout",
     "output_type": "stream",
     "text": [
      "0.48706792774672303\n",
      "0.0037515454374092727\n",
      "0.0026818458773245546\n",
      "0.0022026793770166106\n",
      "0.0019149164699362392\n",
      "0.0017174837149439215\n"
     ]
    }
   ],
   "source": [
    "for j in range(60000):\n",
    "    l0 =x\n",
    "    l1 = nonlin(np.dot(l0, synp0))\n",
    "    l2 = nonlin(np.dot(l1,synp1))\n",
    "    l2_error = y-l2\n",
    "    \n",
    "    \n",
    "    if( j%10000) ==0:\n",
    "        print(np.mean(np.abs(l2_error)))\n",
    "    l2_delta = l2_error*sigmoid(l2, derivative = True)\n",
    "    \n",
    "    l1_error = l2_error.dot(synp1.T)\n",
    "    \n",
    "    l1_delta = l1_error*sigmoid(l1,derivative=True)\n",
    "    \n",
    "    synp1 +=l1.T.dot(l2_delta)\n",
    "    synp0 +=l0.T.dot(l1_delta)"
   ]
  },
  {
   "cell_type": "code",
   "execution_count": 103,
   "metadata": {},
   "outputs": [
    {
     "name": "stdout",
     "output_type": "stream",
     "text": [
      "[[0.0011482 ]\n",
      " [0.99798754]\n",
      " [0.99798752]\n",
      " [0.00111149]]\n"
     ]
    }
   ],
   "source": [
    "print(l2)"
   ]
  },
  {
   "cell_type": "code",
   "execution_count": null,
   "metadata": {},
   "outputs": [],
   "source": []
  },
  {
   "cell_type": "code",
   "execution_count": null,
   "metadata": {},
   "outputs": [],
   "source": []
  }
 ],
 "metadata": {
  "kernelspec": {
   "display_name": "Python 3",
   "language": "python",
   "name": "python3"
  },
  "language_info": {
   "codemirror_mode": {
    "name": "ipython",
    "version": 3
   },
   "file_extension": ".py",
   "mimetype": "text/x-python",
   "name": "python",
   "nbconvert_exporter": "python",
   "pygments_lexer": "ipython3",
   "version": "3.6.5"
  }
 },
 "nbformat": 4,
 "nbformat_minor": 2
}
