{
 "cells": [
  {
   "cell_type": "code",
   "execution_count": 1,
   "metadata": {},
   "outputs": [],
   "source": [
    "import numpy as np"
   ]
  },
  {
   "cell_type": "code",
   "execution_count": 2,
   "metadata": {},
   "outputs": [],
   "source": [
    "def sigmoid(x, derivative=False):\n",
    "    if(derivative==True):\n",
    "        return x*(1-x)\n",
    "    return 1/(1+np.exp(-x))"
   ]
  },
  {
   "cell_type": "code",
   "execution_count": 3,
   "metadata": {},
   "outputs": [],
   "source": [
    "x =np.array([[0,0,1,0],\n",
    "            [0,1,1,1],\n",
    "            [1,0,1,1],\n",
    "            [1,1,1,0],\n",
    "             [1,1,1,1]\n",
    "            ])"
   ]
  },
  {
   "cell_type": "code",
   "execution_count": 4,
   "metadata": {},
   "outputs": [],
   "source": [
    "y = np.array([[0],\n",
    "              [1],\n",
    "              [1],\n",
    "              [0],\n",
    "              [1]]) "
   ]
  },
  {
   "cell_type": "code",
   "execution_count": 5,
   "metadata": {},
   "outputs": [],
   "source": [
    "np.random.seed(1)"
   ]
  },
  {
   "cell_type": "code",
   "execution_count": 6,
   "metadata": {},
   "outputs": [],
   "source": [
    "synp0 = 2*np.random.random((4,5))-1\n",
    "synp1 = 2*np.random.random((5,1))-1"
   ]
  },
  {
   "cell_type": "code",
   "execution_count": 8,
   "metadata": {},
   "outputs": [
    {
     "name": "stdout",
     "output_type": "stream",
     "text": [
      "0.4714637058546244\n",
      "0.0025969240948557674\n",
      "0.0018708228699543575\n",
      "0.0015432160663121548\n",
      "0.001345435918701168\n",
      "0.0012092042715092205\n"
     ]
    }
   ],
   "source": [
    "for j in range(60000):\n",
    "    l0 =x\n",
    "    l1 = sigmoid(np.dot(l0, synp0))\n",
    "    l2 = sigmoid(np.dot(l1,synp1))\n",
    "    l2_error = y-l2\n",
    "    \n",
    "    \n",
    "    if( j%10000) ==0:\n",
    "        print(np.mean(np.abs(l2_error)))\n",
    "    l2_delta = l2_error*sigmoid(l2, derivative = True)\n",
    "    \n",
    "    l1_error = l2_error.dot(synp1.T)\n",
    "    \n",
    "    l1_delta = l1_error*sigmoid(l1,derivative=True)\n",
    "    \n",
    "    synp1 +=l1.T.dot(l2_delta)\n",
    "    synp0 +=l0.T.dot(l1_delta)"
   ]
  },
  {
   "cell_type": "code",
   "execution_count": 9,
   "metadata": {},
   "outputs": [
    {
     "name": "stdout",
     "output_type": "stream",
     "text": [
      "[[0.00136332]\n",
      " [0.99905865]\n",
      " [0.99905857]\n",
      " [0.00134892]\n",
      " [0.99905538]]\n"
     ]
    }
   ],
   "source": [
    "print(l2)"
   ]
  },
  {
   "cell_type": "code",
   "execution_count": null,
   "metadata": {},
   "outputs": [],
   "source": []
  },
  {
   "cell_type": "code",
   "execution_count": null,
   "metadata": {},
   "outputs": [],
   "source": []
  }
 ],
 "metadata": {
  "kernelspec": {
   "display_name": "Python 3",
   "language": "python",
   "name": "python3"
  },
  "language_info": {
   "codemirror_mode": {
    "name": "ipython",
    "version": 3
   },
   "file_extension": ".py",
   "mimetype": "text/x-python",
   "name": "python",
   "nbconvert_exporter": "python",
   "pygments_lexer": "ipython3",
   "version": "3.6.5"
  }
 },
 "nbformat": 4,
 "nbformat_minor": 2
}
